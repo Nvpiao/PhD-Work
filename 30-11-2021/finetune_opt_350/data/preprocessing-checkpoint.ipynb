{
 "cells": [
  {
   "cell_type": "code",
   "execution_count": 35,
   "metadata": {
    "pycharm": {
     "name": "#%%\n"
    }
   },
   "outputs": [],
   "source": [
    "import pandas as pd\n",
    "import random\n",
    "import os\n",
    "import numpy as np\n",
    "from sklearn.model_selection import train_test_split\n",
    "import re"
   ]
  },
  {
   "cell_type": "code",
   "execution_count": 36,
   "outputs": [],
   "source": [
    "seed = 2022"
   ],
   "metadata": {
    "collapsed": false,
    "pycharm": {
     "name": "#%%\n"
    }
   }
  },
  {
   "cell_type": "code",
   "execution_count": 37,
   "outputs": [],
   "source": [
    "def seed_everything(seed):\n",
    "    \"\"\"\n",
    "    set seed\n",
    "    :param seed:\n",
    "    :return:\n",
    "    \"\"\"\n",
    "    random.seed(seed)\n",
    "    os.environ['PYTHONHASHSEED'] = str(seed)\n",
    "    np.random.seed(seed)"
   ],
   "metadata": {
    "collapsed": false,
    "pycharm": {
     "name": "#%%\n"
    }
   }
  },
  {
   "cell_type": "code",
   "execution_count": 38,
   "metadata": {
    "pycharm": {
     "name": "#%%\n"
    }
   },
   "outputs": [],
   "source": [
    "# sentences tokenizer\n",
    "alphabets= \"([A-Za-z])\"\n",
    "prefixes = \"(Mr|St|Mrs|Ms|Dr|Prof|Capt|Cpt|Lt|Mt)[.]\"\n",
    "websites = \"[.](com|net|org|io|gov|me|edu)\"\n",
    "suffixes = \"(Inc|Ltd|Jr|Sr|Co)\"\n",
    "starters = \"(Mr|Mrs|Ms|Dr|He\\s|She\\s|It\\s|They\\s|Their\\s|Our\\s|We\\s|But\\s|However\\s|That\\s|This\\s|Wherever)\"\n",
    "acronyms = \"([A-Z][.][A-Z][.](?:[A-Z][.])?)\"\n",
    "digits = \"([0-9])\""
   ]
  },
  {
   "cell_type": "code",
   "execution_count": 39,
   "metadata": {
    "pycharm": {
     "name": "#%%\n"
    }
   },
   "outputs": [],
   "source": [
    "def split_into_sentences(text):\n",
    "    text = \" \" + text + \"  \"\n",
    "    text = text.replace(\"\\n\",\" \")\n",
    "    text = re.sub(digits + \"[.]\" + digits, \"\\\\1<prd>\\\\2\", text)\n",
    "    text = re.sub(prefixes,\"\\\\1<prd>\",text)\n",
    "    text = re.sub(websites,\"<prd>\\\\1\",text)\n",
    "    if \"Ph.D\" in text: text = text.replace(\"Ph.D.\",\"Ph<prd>D<prd>\")\n",
    "    text = re.sub(\"\\s\" + alphabets + \"[.] \",\" \\\\1<prd> \",text)\n",
    "    text = re.sub(acronyms+\" \"+starters,\"\\\\1<stop> \\\\2\",text)\n",
    "    text = re.sub(alphabets + \"[.]\" + alphabets + \"[.]\" + alphabets + \"[.]\",\"\\\\1<prd>\\\\2<prd>\\\\3<prd>\",text)\n",
    "    text = re.sub(alphabets + \"[.]\" + alphabets + \"[.]\",\"\\\\1<prd>\\\\2<prd>\",text)\n",
    "    text = re.sub(\" \"+suffixes+\"[.] \"+starters,\" \\\\1<stop> \\\\2\",text)\n",
    "    text = re.sub(\" \"+suffixes+\"[.]\",\" \\\\1<prd>\",text)\n",
    "    text = re.sub(\" \" + alphabets + \"[.]\",\" \\\\1<prd>\",text)\n",
    "    if \"”\" in text: text = text.replace(\".”\",\"”.\")\n",
    "    if \"\\\"\" in text: text = text.replace(\".\\\"\",\"\\\".\")\n",
    "    if \"!\" in text: text = text.replace(\"!\\\"\",\"\\\"!\")\n",
    "    if \"?\" in text: text = text.replace(\"?\\\"\",\"\\\"?\")\n",
    "    # if \"...\" in text: text = text.replace(\"...\", \"<prd>\")\n",
    "    if \"e.g.\" in text: text = text.replace(\"e.g.\", \"e<prd>g<prd>\")\n",
    "    if \"i.e.\" in text: text = text.replace(\"i.e.\", \"i<prd>e<prd>\")\n",
    "    text = text.replace(\".\",\".<stop>\")\n",
    "    text = text.replace(\"?\",\"?<stop>\")\n",
    "    text = text.replace(\"!\",\"!<stop>\")\n",
    "    text = text.replace(\"<prd>\",\".\")\n",
    "    text = text.replace(\"<br/>\",\"\\n\")\n",
    "    text = text.replace(\"<br />\",\"\\n\")\n",
    "    sentences = text.split(\"<stop>\")\n",
    "    res = []\n",
    "    for sen in sentences:\n",
    "        if len(sen) > 2:\n",
    "            res.append(sen.strip())\n",
    "    return res"
   ]
  },
  {
   "cell_type": "code",
   "execution_count": 40,
   "metadata": {
    "pycharm": {
     "name": "#%%\n"
    }
   },
   "outputs": [
    {
     "name": "stdout",
     "output_type": "stream",
     "text": [
      "['This screen protector is a great value and very well made.', \"<p />I am 5'9'' so far, but this one does not look like that big of an improvement from previous generations.\", 'it just feels more solid than before with no scratches or anything else on either side.']\n"
     ]
    }
   ],
   "source": [
    "sentences = split_into_sentences(\"This screen protector is a great value and very well made.<br /><p />I am 5'9'' so far, but this one does not look like that big of an improvement from previous generations...it just feels more solid than before with no scratches or anything else on either side.\")\n",
    "print(sentences)"
   ]
  },
  {
   "cell_type": "code",
   "execution_count": 41,
   "metadata": {
    "pycharm": {
     "name": "#%%\n"
    }
   },
   "outputs": [],
   "source": [
    "data_path_80 = \"amazon_reviews_80.txt\"\n",
    "data_path_20 = \"amazon_reviews_20.txt\"\n",
    "\n",
    "\n",
    "columns = [\n",
    "        'DOC_ID',\n",
    "        'LABEL',\n",
    "        'RATING',\n",
    "        'VERIFIED_PURCHASE',\n",
    "        'PRODUCT_CATEGORY',\n",
    "        'PRODUCT_ID',\n",
    "        'PRODUCT_TITLE',\n",
    "        'REVIEW_TITLE',\n",
    "        'REVIEW_TEXT'\n",
    "    ]\n",
    "\n",
    "df_full_train = pd.read_csv(data_path_80, sep='\\t', header=None, names=columns, skiprows=1)\n",
    "df_test = pd.read_csv(data_path_20, sep='\\t', header=None, names=columns, skiprows=1)"
   ]
  },
  {
   "cell_type": "code",
   "execution_count": 42,
   "metadata": {
    "pycharm": {
     "name": "#%%\n"
    }
   },
   "outputs": [
    {
     "data": {
      "text/plain": "   DOC_ID       LABEL  RATING VERIFIED_PURCHASE PRODUCT_CATEGORY  PRODUCT_ID  \\\n0   20982  __label2__       5                 Y            Shoes  B00APWMC90   \n1    9680  __label1__       5                 Y          Jewelry  B00R47VS94   \n2    4740  __label1__       5                 Y               PC  B008THTWIW   \n3    8597  __label1__       5                 N            Tools  B002JM15Z6   \n4   11535  __label2__       5                 N         Outdoors  B00RJM2HTE   \n\n                                       PRODUCT_TITLE  \\\n0  Vasque Women's Skadia Ultradry Snow Boot,Jet B...   \n1  Moonar® 7pcs Gold Skull Bowknot Heart Design M...   \n2  iPad Mini Screen Protector, Tech Armor Anti-Gl...   \n3  Chef Works CSBA-BCS Chalk Stripe Bib Apron wit...   \n4                  Mountain House Chicken Fried Rice   \n\n                                    REVIEW_TITLE  \\\n0                                     Great boot   \n1                   Pretty, Affordable Rings...!   \n2  Very easy to use and the best pricing online!   \n3                        Simple but high quality   \n4                                    Good Stuff!   \n\n                                         REVIEW_TEXT  \n0  Got these just in time to hike on snow-covered...  \n1  I really love putting some accessories in my f...  \n2  I highly recommend the new Tech Armor Anti-Fin...  \n3  I really like this apron it has a very simple ...  \n4  This Mountain House &#34;Savor the Adventure&#...  ",
      "text/html": "<div>\n<style scoped>\n    .dataframe tbody tr th:only-of-type {\n        vertical-align: middle;\n    }\n\n    .dataframe tbody tr th {\n        vertical-align: top;\n    }\n\n    .dataframe thead th {\n        text-align: right;\n    }\n</style>\n<table border=\"1\" class=\"dataframe\">\n  <thead>\n    <tr style=\"text-align: right;\">\n      <th></th>\n      <th>DOC_ID</th>\n      <th>LABEL</th>\n      <th>RATING</th>\n      <th>VERIFIED_PURCHASE</th>\n      <th>PRODUCT_CATEGORY</th>\n      <th>PRODUCT_ID</th>\n      <th>PRODUCT_TITLE</th>\n      <th>REVIEW_TITLE</th>\n      <th>REVIEW_TEXT</th>\n    </tr>\n  </thead>\n  <tbody>\n    <tr>\n      <th>0</th>\n      <td>20982</td>\n      <td>__label2__</td>\n      <td>5</td>\n      <td>Y</td>\n      <td>Shoes</td>\n      <td>B00APWMC90</td>\n      <td>Vasque Women's Skadia Ultradry Snow Boot,Jet B...</td>\n      <td>Great boot</td>\n      <td>Got these just in time to hike on snow-covered...</td>\n    </tr>\n    <tr>\n      <th>1</th>\n      <td>9680</td>\n      <td>__label1__</td>\n      <td>5</td>\n      <td>Y</td>\n      <td>Jewelry</td>\n      <td>B00R47VS94</td>\n      <td>Moonar® 7pcs Gold Skull Bowknot Heart Design M...</td>\n      <td>Pretty, Affordable Rings...!</td>\n      <td>I really love putting some accessories in my f...</td>\n    </tr>\n    <tr>\n      <th>2</th>\n      <td>4740</td>\n      <td>__label1__</td>\n      <td>5</td>\n      <td>Y</td>\n      <td>PC</td>\n      <td>B008THTWIW</td>\n      <td>iPad Mini Screen Protector, Tech Armor Anti-Gl...</td>\n      <td>Very easy to use and the best pricing online!</td>\n      <td>I highly recommend the new Tech Armor Anti-Fin...</td>\n    </tr>\n    <tr>\n      <th>3</th>\n      <td>8597</td>\n      <td>__label1__</td>\n      <td>5</td>\n      <td>N</td>\n      <td>Tools</td>\n      <td>B002JM15Z6</td>\n      <td>Chef Works CSBA-BCS Chalk Stripe Bib Apron wit...</td>\n      <td>Simple but high quality</td>\n      <td>I really like this apron it has a very simple ...</td>\n    </tr>\n    <tr>\n      <th>4</th>\n      <td>11535</td>\n      <td>__label2__</td>\n      <td>5</td>\n      <td>N</td>\n      <td>Outdoors</td>\n      <td>B00RJM2HTE</td>\n      <td>Mountain House Chicken Fried Rice</td>\n      <td>Good Stuff!</td>\n      <td>This Mountain House &amp;#34;Savor the Adventure&amp;#...</td>\n    </tr>\n  </tbody>\n</table>\n</div>"
     },
     "execution_count": 42,
     "metadata": {},
     "output_type": "execute_result"
    }
   ],
   "source": [
    "df_test.head()"
   ]
  },
  {
   "cell_type": "markdown",
   "source": [],
   "metadata": {
    "collapsed": false,
    "pycharm": {
     "name": "#%% md\n"
    }
   }
  },
  {
   "cell_type": "code",
   "execution_count": 43,
   "metadata": {
    "pycharm": {
     "name": "#%%\n"
    }
   },
   "outputs": [],
   "source": [
    "train_valid_ratio = 7/9\n",
    "seed_everything(seed)\n",
    "df_train, df_valid = train_test_split(df_full_train, train_size = train_valid_ratio, random_state = 1)"
   ]
  },
  {
   "cell_type": "code",
   "execution_count": 44,
   "metadata": {
    "pycharm": {
     "name": "#%%\n"
    }
   },
   "outputs": [],
   "source": [
    "special_tokens = {\"unk_token\": \"[UNK]\", \"sep_token\": \"[SEP]\", \"pad_token\": \"[PAD]\", \"cls_token\": \"[CLS]\",\n",
    "                      \"mask_token\": \"[MASK]\",\n",
    "                      \"bos_token\": \"[BOS]\", \"eos_token\": \"[EOS]\"}"
   ]
  },
  {
   "cell_type": "code",
   "execution_count": 45,
   "metadata": {
    "pycharm": {
     "name": "#%%\n"
    }
   },
   "outputs": [],
   "source": [
    "def build_dataset(df, dest_path):\n",
    "    f = open(dest_path, 'w')\n",
    "    data = ''\n",
    "    reviews = df['REVIEW_TEXT'].tolist()\n",
    "    for review in reviews:\n",
    "        review = str(review).strip()\n",
    "        sent_tokens = split_into_sentences(review)\n",
    "        data += special_tokens['bos_token'] + sent_tokens[0] \\\n",
    "                + special_tokens['sep_token'] + sent_tokens[-1] \\\n",
    "                + special_tokens['sep_token'] + review \\\n",
    "                + special_tokens['eos_token'] + '\\n'\n",
    "        \n",
    "    f.write(data)"
   ]
  },
  {
   "cell_type": "code",
   "execution_count": 46,
   "metadata": {
    "pycharm": {
     "name": "#%%\n"
    }
   },
   "outputs": [],
   "source": [
    "build_dataset(df_train, 'train.txt')\n",
    "build_dataset(df_valid, 'valid.txt')\n",
    "build_dataset(df_test, 'test.txt')"
   ]
  },
  {
   "cell_type": "code",
   "execution_count": 46,
   "metadata": {
    "pycharm": {
     "name": "#%%\n"
    }
   },
   "outputs": [],
   "source": []
  }
 ],
 "metadata": {
  "kernelspec": {
   "display_name": "Python 3 (ipykernel)",
   "language": "python",
   "name": "python3"
  },
  "language_info": {
   "codemirror_mode": {
    "name": "ipython",
    "version": 3
   },
   "file_extension": ".py",
   "mimetype": "text/x-python",
   "name": "python",
   "nbconvert_exporter": "python",
   "pygments_lexer": "ipython3",
   "version": "3.8.13"
  }
 },
 "nbformat": 4,
 "nbformat_minor": 2
}